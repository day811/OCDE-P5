{
 "cells": [
  {
   "cell_type": "markdown",
   "id": "b42b6d00",
   "metadata": {},
   "source": [
    "# HealthCare Dataset Explorer\n",
    "\n",
    "## Imports"
   ]
  },
  {
   "cell_type": "code",
   "execution_count": 72,
   "id": "5f45b6b2",
   "metadata": {},
   "outputs": [],
   "source": [
    "import pandas as pd\n",
    "from IPython.display import display, Markdown\n",
    "from decimal import Decimal"
   ]
  },
  {
   "cell_type": "markdown",
   "id": "cfbab1b0",
   "metadata": {},
   "source": [
    "## Functions"
   ]
  },
  {
   "cell_type": "code",
   "execution_count": 73,
   "id": "44beff2e",
   "metadata": {},
   "outputs": [],
   "source": [
    "def dmd(text):\n",
    "    display(Markdown(text))\n",
    "\n",
    "\n",
    "def remove_na(df,column):\n",
    "    mask = df[column].isna()\n",
    "    rows_to_log = df[mask]\n",
    "    df.drop(df[mask].index, inplace=True)\n",
    "    dmd(rows_to_log.to_string())"
   ]
  },
  {
   "cell_type": "markdown",
   "id": "5e084a2e",
   "metadata": {},
   "source": [
    "## Loading data"
   ]
  },
  {
   "cell_type": "code",
   "execution_count": 74,
   "id": "abb8e92f",
   "metadata": {},
   "outputs": [],
   "source": [
    "df_hc = pd.read_csv(\"../data/healthcare_dataset.csv\", dtype = {\n",
    "    'Name' : str,\n",
    "    'Age' : int,\n",
    "    'Gender' : str,\n",
    "    'Blood Type': str,\n",
    "    'Medical Condition' : str,\n",
    "    'Date of Admission' : object,\n",
    "    'Doctor' : str,\n",
    "    'Hospital' : str,\n",
    "    'Insurance Provider' : str,\n",
    "    'Billing Amount' : float,\n",
    "    'Room Number' : int,\n",
    "    'Admission Type' : str,\n",
    "    'Discharge Date' : object,\n",
    "    'Medication' : str,\n",
    "    'Test Results': str\n",
    "    })\n",
    "df_hc['Date of Admission'] = pd.to_datetime(df_hc['Date of Admission']).dt.date\n",
    "df_hc['Discharge Date'] = pd.to_datetime(df_hc['Discharge Date']).dt.date\n",
    "df_hc['Billing Amount'] = df_hc['Billing Amount'].round(2)"
   ]
  },
  {
   "cell_type": "code",
   "execution_count": 64,
   "id": "c458821e",
   "metadata": {},
   "outputs": [
    {
     "data": {
      "application/vnd.microsoft.datawrangler.viewer.v0+json": {
       "columns": [
        {
         "name": "index",
         "rawType": "object",
         "type": "string"
        },
        {
         "name": "Name",
         "rawType": "object",
         "type": "unknown"
        },
        {
         "name": "Age",
         "rawType": "float64",
         "type": "float"
        },
        {
         "name": "Gender",
         "rawType": "object",
         "type": "unknown"
        },
        {
         "name": "Blood Type",
         "rawType": "object",
         "type": "unknown"
        },
        {
         "name": "Medical Condition",
         "rawType": "object",
         "type": "unknown"
        },
        {
         "name": "Date of Admission",
         "rawType": "object",
         "type": "unknown"
        },
        {
         "name": "Doctor",
         "rawType": "object",
         "type": "unknown"
        },
        {
         "name": "Hospital",
         "rawType": "object",
         "type": "unknown"
        },
        {
         "name": "Insurance Provider",
         "rawType": "object",
         "type": "unknown"
        },
        {
         "name": "Billing Amount",
         "rawType": "float64",
         "type": "float"
        },
        {
         "name": "Room Number",
         "rawType": "float64",
         "type": "float"
        },
        {
         "name": "Admission Type",
         "rawType": "object",
         "type": "unknown"
        },
        {
         "name": "Discharge Date",
         "rawType": "object",
         "type": "unknown"
        },
        {
         "name": "Medication",
         "rawType": "object",
         "type": "unknown"
        },
        {
         "name": "Test Results",
         "rawType": "object",
         "type": "unknown"
        }
       ],
       "ref": "0f563295-cd95-44aa-9578-a7c1a7323682",
       "rows": [
        [
         "count",
         "55500",
         "55500.0",
         "55500",
         "55500",
         "55500",
         "55500",
         "55500",
         "55500",
         "55500",
         "55500.0",
         "55500.0",
         "55500",
         "55500",
         "55500",
         "55500"
        ],
        [
         "unique",
         "40235",
         null,
         "2",
         "8",
         "6",
         "1827",
         "40341",
         "39876",
         "5",
         null,
         null,
         "3",
         "1856",
         "5",
         "3"
        ],
        [
         "top",
         "Michael Williams",
         null,
         "Male",
         "A-",
         "Arthritis",
         "2024-03-16",
         "Michael Smith",
         "LLC Smith",
         "Cigna",
         null,
         null,
         "Elective",
         "2020-03-15",
         "Lipitor",
         "Abnormal"
        ],
        [
         "freq",
         "24",
         null,
         "27774",
         "6969",
         "9308",
         "50",
         "27",
         "44",
         "11249",
         null,
         null,
         "18655",
         "53",
         "11140",
         "18627"
        ],
        [
         "mean",
         null,
         "51.53945945945946",
         null,
         null,
         null,
         null,
         null,
         null,
         null,
         "25539.31607117117",
         "301.1348288288288",
         null,
         null,
         null,
         null
        ],
        [
         "std",
         null,
         "19.602453808514348",
         null,
         null,
         null,
         null,
         null,
         null,
         null,
         "14211.454434476502",
         "115.2430687009733",
         null,
         null,
         null,
         null
        ],
        [
         "min",
         null,
         "13.0",
         null,
         null,
         null,
         null,
         null,
         null,
         null,
         "-2008.49",
         "101.0",
         null,
         null,
         null,
         null
        ],
        [
         "25%",
         null,
         "35.0",
         null,
         null,
         null,
         null,
         null,
         null,
         null,
         "13241.2225",
         "202.0",
         null,
         null,
         null,
         null
        ],
        [
         "50%",
         null,
         "52.0",
         null,
         null,
         null,
         null,
         null,
         null,
         null,
         "25538.065000000002",
         "302.0",
         null,
         null,
         null,
         null
        ],
        [
         "75%",
         null,
         "68.0",
         null,
         null,
         null,
         null,
         null,
         null,
         null,
         "37820.509999999995",
         "401.0",
         null,
         null,
         null,
         null
        ],
        [
         "max",
         null,
         "89.0",
         null,
         null,
         null,
         null,
         null,
         null,
         null,
         "52764.28",
         "500.0",
         null,
         null,
         null,
         null
        ]
       ],
       "shape": {
        "columns": 15,
        "rows": 11
       }
      },
      "text/html": [
       "<div>\n",
       "<style scoped>\n",
       "    .dataframe tbody tr th:only-of-type {\n",
       "        vertical-align: middle;\n",
       "    }\n",
       "\n",
       "    .dataframe tbody tr th {\n",
       "        vertical-align: top;\n",
       "    }\n",
       "\n",
       "    .dataframe thead th {\n",
       "        text-align: right;\n",
       "    }\n",
       "</style>\n",
       "<table border=\"1\" class=\"dataframe\">\n",
       "  <thead>\n",
       "    <tr style=\"text-align: right;\">\n",
       "      <th>Column Name</th>\n",
       "      <th>Name</th>\n",
       "      <th>Age</th>\n",
       "      <th>Gender</th>\n",
       "      <th>Blood Type</th>\n",
       "      <th>Medical Condition</th>\n",
       "      <th>Date of Admission</th>\n",
       "      <th>Doctor</th>\n",
       "      <th>Hospital</th>\n",
       "      <th>Insurance Provider</th>\n",
       "      <th>Billing Amount</th>\n",
       "      <th>Room Number</th>\n",
       "      <th>Admission Type</th>\n",
       "      <th>Discharge Date</th>\n",
       "      <th>Medication</th>\n",
       "      <th>Test Results</th>\n",
       "    </tr>\n",
       "  </thead>\n",
       "  <tbody>\n",
       "    <tr>\n",
       "      <th>count</th>\n",
       "      <td>55500</td>\n",
       "      <td>55500.000000</td>\n",
       "      <td>55500</td>\n",
       "      <td>55500</td>\n",
       "      <td>55500</td>\n",
       "      <td>55500</td>\n",
       "      <td>55500</td>\n",
       "      <td>55500</td>\n",
       "      <td>55500</td>\n",
       "      <td>55500.000000</td>\n",
       "      <td>55500.000000</td>\n",
       "      <td>55500</td>\n",
       "      <td>55500</td>\n",
       "      <td>55500</td>\n",
       "      <td>55500</td>\n",
       "    </tr>\n",
       "    <tr>\n",
       "      <th>unique</th>\n",
       "      <td>40235</td>\n",
       "      <td>NaN</td>\n",
       "      <td>2</td>\n",
       "      <td>8</td>\n",
       "      <td>6</td>\n",
       "      <td>1827</td>\n",
       "      <td>40341</td>\n",
       "      <td>39876</td>\n",
       "      <td>5</td>\n",
       "      <td>NaN</td>\n",
       "      <td>NaN</td>\n",
       "      <td>3</td>\n",
       "      <td>1856</td>\n",
       "      <td>5</td>\n",
       "      <td>3</td>\n",
       "    </tr>\n",
       "    <tr>\n",
       "      <th>top</th>\n",
       "      <td>Michael Williams</td>\n",
       "      <td>NaN</td>\n",
       "      <td>Male</td>\n",
       "      <td>A-</td>\n",
       "      <td>Arthritis</td>\n",
       "      <td>2024-03-16</td>\n",
       "      <td>Michael Smith</td>\n",
       "      <td>LLC Smith</td>\n",
       "      <td>Cigna</td>\n",
       "      <td>NaN</td>\n",
       "      <td>NaN</td>\n",
       "      <td>Elective</td>\n",
       "      <td>2020-03-15</td>\n",
       "      <td>Lipitor</td>\n",
       "      <td>Abnormal</td>\n",
       "    </tr>\n",
       "    <tr>\n",
       "      <th>freq</th>\n",
       "      <td>24</td>\n",
       "      <td>NaN</td>\n",
       "      <td>27774</td>\n",
       "      <td>6969</td>\n",
       "      <td>9308</td>\n",
       "      <td>50</td>\n",
       "      <td>27</td>\n",
       "      <td>44</td>\n",
       "      <td>11249</td>\n",
       "      <td>NaN</td>\n",
       "      <td>NaN</td>\n",
       "      <td>18655</td>\n",
       "      <td>53</td>\n",
       "      <td>11140</td>\n",
       "      <td>18627</td>\n",
       "    </tr>\n",
       "    <tr>\n",
       "      <th>mean</th>\n",
       "      <td>NaN</td>\n",
       "      <td>51.539459</td>\n",
       "      <td>NaN</td>\n",
       "      <td>NaN</td>\n",
       "      <td>NaN</td>\n",
       "      <td>NaN</td>\n",
       "      <td>NaN</td>\n",
       "      <td>NaN</td>\n",
       "      <td>NaN</td>\n",
       "      <td>25539.316071</td>\n",
       "      <td>301.134829</td>\n",
       "      <td>NaN</td>\n",
       "      <td>NaN</td>\n",
       "      <td>NaN</td>\n",
       "      <td>NaN</td>\n",
       "    </tr>\n",
       "    <tr>\n",
       "      <th>std</th>\n",
       "      <td>NaN</td>\n",
       "      <td>19.602454</td>\n",
       "      <td>NaN</td>\n",
       "      <td>NaN</td>\n",
       "      <td>NaN</td>\n",
       "      <td>NaN</td>\n",
       "      <td>NaN</td>\n",
       "      <td>NaN</td>\n",
       "      <td>NaN</td>\n",
       "      <td>14211.454434</td>\n",
       "      <td>115.243069</td>\n",
       "      <td>NaN</td>\n",
       "      <td>NaN</td>\n",
       "      <td>NaN</td>\n",
       "      <td>NaN</td>\n",
       "    </tr>\n",
       "    <tr>\n",
       "      <th>min</th>\n",
       "      <td>NaN</td>\n",
       "      <td>13.000000</td>\n",
       "      <td>NaN</td>\n",
       "      <td>NaN</td>\n",
       "      <td>NaN</td>\n",
       "      <td>NaN</td>\n",
       "      <td>NaN</td>\n",
       "      <td>NaN</td>\n",
       "      <td>NaN</td>\n",
       "      <td>-2008.490000</td>\n",
       "      <td>101.000000</td>\n",
       "      <td>NaN</td>\n",
       "      <td>NaN</td>\n",
       "      <td>NaN</td>\n",
       "      <td>NaN</td>\n",
       "    </tr>\n",
       "    <tr>\n",
       "      <th>25%</th>\n",
       "      <td>NaN</td>\n",
       "      <td>35.000000</td>\n",
       "      <td>NaN</td>\n",
       "      <td>NaN</td>\n",
       "      <td>NaN</td>\n",
       "      <td>NaN</td>\n",
       "      <td>NaN</td>\n",
       "      <td>NaN</td>\n",
       "      <td>NaN</td>\n",
       "      <td>13241.222500</td>\n",
       "      <td>202.000000</td>\n",
       "      <td>NaN</td>\n",
       "      <td>NaN</td>\n",
       "      <td>NaN</td>\n",
       "      <td>NaN</td>\n",
       "    </tr>\n",
       "    <tr>\n",
       "      <th>50%</th>\n",
       "      <td>NaN</td>\n",
       "      <td>52.000000</td>\n",
       "      <td>NaN</td>\n",
       "      <td>NaN</td>\n",
       "      <td>NaN</td>\n",
       "      <td>NaN</td>\n",
       "      <td>NaN</td>\n",
       "      <td>NaN</td>\n",
       "      <td>NaN</td>\n",
       "      <td>25538.065000</td>\n",
       "      <td>302.000000</td>\n",
       "      <td>NaN</td>\n",
       "      <td>NaN</td>\n",
       "      <td>NaN</td>\n",
       "      <td>NaN</td>\n",
       "    </tr>\n",
       "    <tr>\n",
       "      <th>75%</th>\n",
       "      <td>NaN</td>\n",
       "      <td>68.000000</td>\n",
       "      <td>NaN</td>\n",
       "      <td>NaN</td>\n",
       "      <td>NaN</td>\n",
       "      <td>NaN</td>\n",
       "      <td>NaN</td>\n",
       "      <td>NaN</td>\n",
       "      <td>NaN</td>\n",
       "      <td>37820.510000</td>\n",
       "      <td>401.000000</td>\n",
       "      <td>NaN</td>\n",
       "      <td>NaN</td>\n",
       "      <td>NaN</td>\n",
       "      <td>NaN</td>\n",
       "    </tr>\n",
       "    <tr>\n",
       "      <th>max</th>\n",
       "      <td>NaN</td>\n",
       "      <td>89.000000</td>\n",
       "      <td>NaN</td>\n",
       "      <td>NaN</td>\n",
       "      <td>NaN</td>\n",
       "      <td>NaN</td>\n",
       "      <td>NaN</td>\n",
       "      <td>NaN</td>\n",
       "      <td>NaN</td>\n",
       "      <td>52764.280000</td>\n",
       "      <td>500.000000</td>\n",
       "      <td>NaN</td>\n",
       "      <td>NaN</td>\n",
       "      <td>NaN</td>\n",
       "      <td>NaN</td>\n",
       "    </tr>\n",
       "  </tbody>\n",
       "</table>\n",
       "</div>"
      ],
      "text/plain": [
       "Column Name              Name           Age Gender Blood Type  \\\n",
       "count                   55500  55500.000000  55500      55500   \n",
       "unique                  40235           NaN      2          8   \n",
       "top          Michael Williams           NaN   Male         A-   \n",
       "freq                       24           NaN  27774       6969   \n",
       "mean                      NaN     51.539459    NaN        NaN   \n",
       "std                       NaN     19.602454    NaN        NaN   \n",
       "min                       NaN     13.000000    NaN        NaN   \n",
       "25%                       NaN     35.000000    NaN        NaN   \n",
       "50%                       NaN     52.000000    NaN        NaN   \n",
       "75%                       NaN     68.000000    NaN        NaN   \n",
       "max                       NaN     89.000000    NaN        NaN   \n",
       "\n",
       "Column Name Medical Condition Date of Admission         Doctor   Hospital  \\\n",
       "count                   55500             55500          55500      55500   \n",
       "unique                      6              1827          40341      39876   \n",
       "top                 Arthritis        2024-03-16  Michael Smith  LLC Smith   \n",
       "freq                     9308                50             27         44   \n",
       "mean                      NaN               NaN            NaN        NaN   \n",
       "std                       NaN               NaN            NaN        NaN   \n",
       "min                       NaN               NaN            NaN        NaN   \n",
       "25%                       NaN               NaN            NaN        NaN   \n",
       "50%                       NaN               NaN            NaN        NaN   \n",
       "75%                       NaN               NaN            NaN        NaN   \n",
       "max                       NaN               NaN            NaN        NaN   \n",
       "\n",
       "Column Name Insurance Provider  Billing Amount   Room Number Admission Type  \\\n",
       "count                    55500    55500.000000  55500.000000          55500   \n",
       "unique                       5             NaN           NaN              3   \n",
       "top                      Cigna             NaN           NaN       Elective   \n",
       "freq                     11249             NaN           NaN          18655   \n",
       "mean                       NaN    25539.316071    301.134829            NaN   \n",
       "std                        NaN    14211.454434    115.243069            NaN   \n",
       "min                        NaN    -2008.490000    101.000000            NaN   \n",
       "25%                        NaN    13241.222500    202.000000            NaN   \n",
       "50%                        NaN    25538.065000    302.000000            NaN   \n",
       "75%                        NaN    37820.510000    401.000000            NaN   \n",
       "max                        NaN    52764.280000    500.000000            NaN   \n",
       "\n",
       "Column Name Discharge Date Medication Test Results  \n",
       "count                55500      55500        55500  \n",
       "unique                1856          5            3  \n",
       "top             2020-03-15    Lipitor     Abnormal  \n",
       "freq                    53      11140        18627  \n",
       "mean                   NaN        NaN          NaN  \n",
       "std                    NaN        NaN          NaN  \n",
       "min                    NaN        NaN          NaN  \n",
       "25%                    NaN        NaN          NaN  \n",
       "50%                    NaN        NaN          NaN  \n",
       "75%                    NaN        NaN          NaN  \n",
       "max                    NaN        NaN          NaN  "
      ]
     },
     "execution_count": 64,
     "metadata": {},
     "output_type": "execute_result"
    }
   ],
   "source": [
    "df_hc.describe(include='all')"
   ]
  },
  {
   "cell_type": "code",
   "execution_count": 71,
   "id": "25a12d4a",
   "metadata": {},
   "outputs": [
    {
     "data": {
      "text/plain": [
       "Index(['Name', 'Age', 'Gender', 'Blood Type', 'Medical Condition',\n",
       "       'Date of Admission', 'Doctor', 'Hospital', 'Insurance Provider',\n",
       "       'Billing Amount', 'Room Number', 'Admission Type', 'Discharge Date',\n",
       "       'Medication', 'Test Results'],\n",
       "      dtype='object', name='Column Name')"
      ]
     },
     "execution_count": 71,
     "metadata": {},
     "output_type": "execute_result"
    }
   ],
   "source": [
    "df_hc.columns"
   ]
  },
  {
   "cell_type": "markdown",
   "id": "0cfae89a",
   "metadata": {},
   "source": [
    "## Patient data cleaning"
   ]
  },
  {
   "cell_type": "code",
   "execution_count": 70,
   "id": "9ab96d34",
   "metadata": {},
   "outputs": [
    {
     "data": {
      "text/markdown": [
       "Empty DataFrame\n",
       "Columns: [Name, Age, Gender, Blood Type, Medical Condition, Date of Admission, Doctor, Hospital, Insurance Provider, Billing Amount, Room Number, Admission Type, Discharge Date, Medication, Test Results]\n",
       "Index: []"
      ],
      "text/plain": [
       "<IPython.core.display.Markdown object>"
      ]
     },
     "metadata": {},
     "output_type": "display_data"
    }
   ],
   "source": [
    "df_hc['Name'] = df_hc['Name'].str.title()\n",
    "remove_na(df_hc,'Name')"
   ]
  },
  {
   "cell_type": "code",
   "execution_count": 56,
   "id": "b26e65b8",
   "metadata": {},
   "outputs": [],
   "source": [
    "df_hc['Doctor'] = df_hc['Doctor'].str.title()"
   ]
  },
  {
   "cell_type": "code",
   "execution_count": 36,
   "id": "f620de00",
   "metadata": {},
   "outputs": [
    {
     "data": {
      "application/vnd.microsoft.datawrangler.viewer.v0+json": {
       "columns": [
        {
         "name": "Blood Type",
         "rawType": "object",
         "type": "string"
        },
        {
         "name": "count",
         "rawType": "int64",
         "type": "integer"
        }
       ],
       "ref": "392f9757-7d65-4f1e-9f0c-fd94a875e477",
       "rows": [
        [
         "AB+",
         "6291"
        ],
        [
         "B+",
         "6278"
        ],
        [
         "A-",
         "6261"
        ],
        [
         "AB-",
         "6259"
        ],
        [
         "A+",
         "6246"
        ],
        [
         "O+",
         "6235"
        ],
        [
         "B-",
         "6230"
        ],
        [
         "O-",
         "6200"
        ]
       ],
       "shape": {
        "columns": 1,
        "rows": 8
       }
      },
      "text/plain": [
       "Blood Type\n",
       "AB+    6291\n",
       "B+     6278\n",
       "A-     6261\n",
       "AB-    6259\n",
       "A+     6246\n",
       "O+     6235\n",
       "B-     6230\n",
       "O-     6200\n",
       "Name: count, dtype: int64"
      ]
     },
     "execution_count": 36,
     "metadata": {},
     "output_type": "execute_result"
    }
   ],
   "source": [
    "df_hc['Blood Type'] = df_hc['Blood Type'].str.upper()\n",
    "df_hc['Blood Type'].value_counts()"
   ]
  },
  {
   "cell_type": "code",
   "execution_count": 37,
   "id": "b505fe58",
   "metadata": {},
   "outputs": [
    {
     "data": {
      "application/vnd.microsoft.datawrangler.viewer.v0+json": {
       "columns": [
        {
         "name": "Age",
         "rawType": "int64",
         "type": "integer"
        },
        {
         "name": "count",
         "rawType": "int64",
         "type": "integer"
        }
       ],
       "ref": "efe5fd2e-a3cd-41e9-944e-dbc3a30198fe",
       "rows": [
        [
         "15",
         "14"
        ],
        [
         "16",
         "28"
        ],
        [
         "17",
         "38"
        ],
        [
         "18",
         "690"
        ],
        [
         "19",
         "738"
        ],
        [
         "20",
         "693"
        ],
        [
         "21",
         "738"
        ],
        [
         "22",
         "750"
        ],
        [
         "23",
         "730"
        ],
        [
         "24",
         "752"
        ],
        [
         "25",
         "755"
        ],
        [
         "26",
         "715"
        ],
        [
         "27",
         "696"
        ],
        [
         "28",
         "693"
        ],
        [
         "29",
         "711"
        ],
        [
         "30",
         "727"
        ],
        [
         "31",
         "698"
        ],
        [
         "32",
         "696"
        ],
        [
         "33",
         "736"
        ],
        [
         "34",
         "754"
        ],
        [
         "35",
         "751"
        ],
        [
         "36",
         "715"
        ],
        [
         "37",
         "811"
        ],
        [
         "38",
         "788"
        ],
        [
         "39",
         "676"
        ],
        [
         "40",
         "683"
        ],
        [
         "41",
         "737"
        ],
        [
         "42",
         "747"
        ],
        [
         "43",
         "759"
        ],
        [
         "44",
         "767"
        ],
        [
         "45",
         "714"
        ],
        [
         "46",
         "731"
        ],
        [
         "47",
         "726"
        ],
        [
         "48",
         "736"
        ],
        [
         "49",
         "757"
        ],
        [
         "50",
         "726"
        ],
        [
         "51",
         "728"
        ],
        [
         "52",
         "727"
        ],
        [
         "53",
         "755"
        ],
        [
         "54",
         "757"
        ],
        [
         "55",
         "742"
        ],
        [
         "56",
         "777"
        ],
        [
         "57",
         "792"
        ],
        [
         "58",
         "769"
        ],
        [
         "59",
         "748"
        ],
        [
         "60",
         "687"
        ],
        [
         "61",
         "688"
        ],
        [
         "62",
         "752"
        ],
        [
         "63",
         "778"
        ],
        [
         "64",
         "736"
        ]
       ],
       "shape": {
        "columns": 1,
        "rows": 73
       }
      },
      "text/plain": [
       "Age\n",
       "15     14\n",
       "16     28\n",
       "17     38\n",
       "18    690\n",
       "19    738\n",
       "     ... \n",
       "83    705\n",
       "84    690\n",
       "85    672\n",
       "86     36\n",
       "87      8\n",
       "Name: count, Length: 73, dtype: int64"
      ]
     },
     "execution_count": 37,
     "metadata": {},
     "output_type": "execute_result"
    }
   ],
   "source": [
    "df_hc['Age'] = df_hc['Age'].astype(int)\n",
    "df_hc['Age'].value_counts().sort_index()"
   ]
  },
  {
   "cell_type": "markdown",
   "id": "d961bd62",
   "metadata": {},
   "source": [
    "### Search for medical data inconsistency"
   ]
  },
  {
   "cell_type": "code",
   "execution_count": 38,
   "id": "df7f98ef",
   "metadata": {},
   "outputs": [
    {
     "data": {
      "application/vnd.microsoft.datawrangler.viewer.v0+json": {
       "columns": [
        {
         "name": "Gender",
         "rawType": "object",
         "type": "string"
        },
        {
         "name": "count",
         "rawType": "int64",
         "type": "integer"
        }
       ],
       "ref": "402b635a-bf29-4e3b-97c9-98867fbc13b9",
       "rows": [
        [
         "Female",
         "25011"
        ],
        [
         "Male",
         "24989"
        ]
       ],
       "shape": {
        "columns": 1,
        "rows": 2
       }
      },
      "text/plain": [
       "Gender\n",
       "Female    25011\n",
       "Male      24989\n",
       "Name: count, dtype: int64"
      ]
     },
     "execution_count": 38,
     "metadata": {},
     "output_type": "execute_result"
    }
   ],
   "source": [
    "df_hc['Gender'] = df_hc['Gender'].str.title()\n",
    "df_hc['Gender'].value_counts()"
   ]
  },
  {
   "cell_type": "code",
   "execution_count": null,
   "id": "d8596bb8",
   "metadata": {},
   "outputs": [
    {
     "data": {
      "application/vnd.microsoft.datawrangler.viewer.v0+json": {
       "columns": [
        {
         "name": "Blood Type",
         "rawType": "object",
         "type": "string"
        },
        {
         "name": "count",
         "rawType": "int64",
         "type": "integer"
        }
       ],
       "ref": "12fa1d7f-d411-461e-9d1b-d4c3e85b1998",
       "rows": [
        [
         "A+",
         "6956"
        ],
        [
         "A-",
         "6969"
        ],
        [
         "AB+",
         "6947"
        ],
        [
         "AB-",
         "6945"
        ],
        [
         "B+",
         "6945"
        ],
        [
         "B-",
         "6944"
        ],
        [
         "O+",
         "6917"
        ],
        [
         "O-",
         "6877"
        ]
       ],
       "shape": {
        "columns": 1,
        "rows": 8
       }
      },
      "text/plain": [
       "Blood Type\n",
       "A+     6956\n",
       "A-     6969\n",
       "AB+    6947\n",
       "AB-    6945\n",
       "B+     6945\n",
       "B-     6944\n",
       "O+     6917\n",
       "O-     6877\n",
       "Name: count, dtype: int64"
      ]
     },
     "execution_count": 19,
     "metadata": {},
     "output_type": "execute_result"
    }
   ],
   "source": []
  },
  {
   "cell_type": "code",
   "execution_count": null,
   "id": "7da67b5a",
   "metadata": {},
   "outputs": [],
   "source": [
    "df_hc['Blood Type'] = df_hc['Blood Type'].str.upper()"
   ]
  },
  {
   "cell_type": "code",
   "execution_count": 17,
   "id": "97a64706",
   "metadata": {},
   "outputs": [
    {
     "data": {
      "application/vnd.microsoft.datawrangler.viewer.v0+json": {
       "columns": [
        {
         "name": "('Doctor', 'Hospital')",
         "rawType": "object",
         "type": "unknown"
        },
        {
         "name": "count",
         "rawType": "int64",
         "type": "integer"
        }
       ],
       "ref": "b512d07a-b48d-4c88-8b14-b8bf867efd11",
       "rows": [
        [
         "('Aaron Acevedo', 'Cervantes, and Mckenzie Byrd')",
         "1"
        ],
        [
         "('Aaron Adams', 'LLC Boyle')",
         "1"
        ],
        [
         "('Aaron Aguilar', 'Hess White and Drake,')",
         "1"
        ],
        [
         "('Aaron Alexander', 'Richardson-Juarez')",
         "1"
        ],
        [
         "('Aaron Anderson', 'Miller-Stanton')",
         "1"
        ],
        [
         "('Aaron Arnold', 'Parrish Ltd')",
         "1"
        ],
        [
         "('Aaron Baker', 'PLC White')",
         "1"
        ],
        [
         "('Aaron Baker', 'Peters LLC')",
         "1"
        ],
        [
         "('Aaron Barker', 'Hernandez Short Cooper, and')",
         "1"
        ],
        [
         "('Aaron Barrett', 'Strickland Richards and Benjamin,')",
         "1"
        ],
        [
         "('Aaron Barry', 'Gomez-Thompson')",
         "1"
        ],
        [
         "('Aaron Bates', 'and Hawkins Bryant Fowler,')",
         "1"
        ],
        [
         "('Aaron Becker', 'and Payne Graves Torres,')",
         "1"
        ],
        [
         "('Aaron Brown', 'Adams-Flynn')",
         "1"
        ],
        [
         "('Aaron Brown', 'Howard-Howard')",
         "1"
        ],
        [
         "('Aaron Brown', 'Ltd Harris')",
         "1"
        ],
        [
         "('Aaron Brown', 'Ltd Sims')",
         "1"
        ],
        [
         "('Aaron Brown', 'Thornton, Merritt Webb and')",
         "1"
        ],
        [
         "('Aaron Brown', 'Wheeler-Garcia')",
         "1"
        ],
        [
         "('Aaron Burch', 'Williamson Brown, and Smith')",
         "1"
        ],
        [
         "('Aaron Caldwell', 'Harris PLC')",
         "1"
        ],
        [
         "('Aaron Cardenas', 'Williamson and Hughes Franco,')",
         "1"
        ],
        [
         "('Aaron Carter', 'Burns-Wright')",
         "1"
        ],
        [
         "('Aaron Christensen', 'Wheeler, Hicks Anderson and')",
         "2"
        ],
        [
         "('Aaron Collins', 'Brown Hansen, and Lopez')",
         "1"
        ],
        [
         "('Aaron Collins', 'Rivera-Holder')",
         "1"
        ],
        [
         "('Aaron Cook', 'Ltd Hanson')",
         "1"
        ],
        [
         "('Aaron Cook', 'Rosario Group')",
         "1"
        ],
        [
         "('Aaron Cooley', 'Group Garcia')",
         "1"
        ],
        [
         "('Aaron Cunningham', 'and Parker Austin, Perez')",
         "1"
        ],
        [
         "('Aaron Curtis', 'Lopez-Rivera')",
         "1"
        ],
        [
         "('Aaron Curtis', 'Mayo-Bishop')",
         "1"
        ],
        [
         "('Aaron David', 'Garcia-Lopez')",
         "1"
        ],
        [
         "('Aaron David', 'Sims-Johnson')",
         "1"
        ],
        [
         "('Aaron Davila', 'Simmons-Taylor')",
         "1"
        ],
        [
         "('Aaron Dennis', 'Johnson LLC')",
         "1"
        ],
        [
         "('Aaron Dickson', 'Jimenez PLC')",
         "1"
        ],
        [
         "('Aaron Edwards', 'Miller-Lee')",
         "1"
        ],
        [
         "('Aaron Esparza', 'Clark Inc')",
         "1"
        ],
        [
         "('Aaron Flores', 'Rivera Group')",
         "1"
        ],
        [
         "('Aaron Foster', 'and Flores Swanson, Wagner')",
         "1"
        ],
        [
         "('Aaron Fox', 'Clark, and Cobb Parsons')",
         "1"
        ],
        [
         "('Aaron Garcia', 'Brown-Bell')",
         "1"
        ],
        [
         "('Aaron Garcia', 'Group Nelson')",
         "1"
        ],
        [
         "('Aaron Glover', 'Green-Lloyd')",
         "1"
        ],
        [
         "('Aaron Gomez', 'Rose Anderson, and Moore')",
         "1"
        ],
        [
         "('Aaron Greer', 'Lee-Hernandez')",
         "2"
        ],
        [
         "('Aaron Gregory', 'LLC Woodward')",
         "2"
        ],
        [
         "('Aaron Griffin', 'Hill Sons and')",
         "1"
        ],
        [
         "('Aaron Grimes', 'Garrison Sons and')",
         "1"
        ]
       ],
       "shape": {
        "columns": 1,
        "rows": 50000
       }
      },
      "text/plain": [
       "Doctor           Hospital                    \n",
       "Aaron Acevedo    Cervantes, and Mckenzie Byrd    1\n",
       "Aaron Adams      LLC Boyle                       1\n",
       "Aaron Aguilar    Hess White and Drake,           1\n",
       "Aaron Alexander  Richardson-Juarez               1\n",
       "Aaron Anderson   Miller-Stanton                  1\n",
       "                                                ..\n",
       "Zoe Khan         Hunter PLC                      1\n",
       "Zoe Knight       and Sons Walters                1\n",
       "Zoe Nichols      Harris-Lee                      1\n",
       "Zoe Roberts      and Williams Garza, Herman      1\n",
       "Zoe Wallace      Knight Wilkerson, and Carey     1\n",
       "Name: count, Length: 50000, dtype: int64"
      ]
     },
     "execution_count": 17,
     "metadata": {},
     "output_type": "execute_result"
    }
   ],
   "source": [
    "df_hc.groupby('Doctor')[['Hospital']].value_counts()"
   ]
  },
  {
   "cell_type": "code",
   "execution_count": 6,
   "id": "588675b7",
   "metadata": {},
   "outputs": [
    {
     "data": {
      "text/plain": [
       "(55500, 15)"
      ]
     },
     "metadata": {},
     "output_type": "display_data"
    },
    {
     "data": {
      "application/vnd.microsoft.datawrangler.viewer.v0+json": {
       "columns": [
        {
         "name": "index",
         "rawType": "object",
         "type": "string"
        },
        {
         "name": "Name",
         "rawType": "object",
         "type": "unknown"
        },
        {
         "name": "Age",
         "rawType": "float64",
         "type": "float"
        },
        {
         "name": "Gender",
         "rawType": "object",
         "type": "unknown"
        },
        {
         "name": "Blood Type",
         "rawType": "object",
         "type": "unknown"
        },
        {
         "name": "Medical Condition",
         "rawType": "object",
         "type": "unknown"
        },
        {
         "name": "Date of Admission",
         "rawType": "object",
         "type": "unknown"
        },
        {
         "name": "Doctor",
         "rawType": "object",
         "type": "unknown"
        },
        {
         "name": "Hospital",
         "rawType": "object",
         "type": "unknown"
        },
        {
         "name": "Insurance Provider",
         "rawType": "object",
         "type": "unknown"
        },
        {
         "name": "Billing Amount",
         "rawType": "float64",
         "type": "float"
        },
        {
         "name": "Room Number",
         "rawType": "float64",
         "type": "float"
        },
        {
         "name": "Admission Type",
         "rawType": "object",
         "type": "unknown"
        },
        {
         "name": "Discharge Date",
         "rawType": "object",
         "type": "unknown"
        },
        {
         "name": "Medication",
         "rawType": "object",
         "type": "unknown"
        },
        {
         "name": "Test Results",
         "rawType": "object",
         "type": "unknown"
        }
       ],
       "ref": "1429797c-7ff2-4dbe-9371-16f02ddf3266",
       "rows": [
        [
         "count",
         "55500",
         "55500.0",
         "55500",
         "55500",
         "55500",
         "55500",
         "55500",
         "55500",
         "55500",
         "55500.0",
         "55500.0",
         "55500",
         "55500",
         "55500",
         "55500"
        ],
        [
         "unique",
         "40235",
         null,
         "2",
         "8",
         "6",
         "1827",
         "40341",
         "39876",
         "5",
         null,
         null,
         "3",
         "1856",
         "5",
         "3"
        ],
        [
         "top",
         "Michael Williams",
         null,
         "Male",
         "A-",
         "Arthritis",
         "2024-03-16",
         "Michael Smith",
         "LLC Smith",
         "Cigna",
         null,
         null,
         "Elective",
         "2020-03-15",
         "Lipitor",
         "Abnormal"
        ],
        [
         "freq",
         "24",
         null,
         "27774",
         "6969",
         "9308",
         "50",
         "27",
         "44",
         "11249",
         null,
         null,
         "18655",
         "53",
         "11140",
         "18627"
        ],
        [
         "mean",
         null,
         "51.53945945945946",
         null,
         null,
         null,
         null,
         null,
         null,
         null,
         "25539.316097211795",
         "301.1348288288288",
         null,
         null,
         null,
         null
        ],
        [
         "std",
         null,
         "19.602453808514348",
         null,
         null,
         null,
         null,
         null,
         null,
         null,
         "14211.454430864413",
         "115.2430687009733",
         null,
         null,
         null,
         null
        ],
        [
         "min",
         null,
         "13.0",
         null,
         null,
         null,
         null,
         null,
         null,
         null,
         "-2008.4921398591305",
         "101.0",
         null,
         null,
         null,
         null
        ],
        [
         "25%",
         null,
         "35.0",
         null,
         null,
         null,
         null,
         null,
         null,
         null,
         "13241.224652365136",
         "202.0",
         null,
         null,
         null,
         null
        ],
        [
         "50%",
         null,
         "52.0",
         null,
         null,
         null,
         null,
         null,
         null,
         null,
         "25538.069375965664",
         "302.0",
         null,
         null,
         null,
         null
        ],
        [
         "75%",
         null,
         "68.0",
         null,
         null,
         null,
         null,
         null,
         null,
         null,
         "37820.508435784795",
         "401.0",
         null,
         null,
         null,
         null
        ],
        [
         "max",
         null,
         "89.0",
         null,
         null,
         null,
         null,
         null,
         null,
         null,
         "52764.276736469175",
         "500.0",
         null,
         null,
         null,
         null
        ]
       ],
       "shape": {
        "columns": 15,
        "rows": 11
       }
      },
      "text/html": [
       "<div>\n",
       "<style scoped>\n",
       "    .dataframe tbody tr th:only-of-type {\n",
       "        vertical-align: middle;\n",
       "    }\n",
       "\n",
       "    .dataframe tbody tr th {\n",
       "        vertical-align: top;\n",
       "    }\n",
       "\n",
       "    .dataframe thead th {\n",
       "        text-align: right;\n",
       "    }\n",
       "</style>\n",
       "<table border=\"1\" class=\"dataframe\">\n",
       "  <thead>\n",
       "    <tr style=\"text-align: right;\">\n",
       "      <th>Column Name</th>\n",
       "      <th>Name</th>\n",
       "      <th>Age</th>\n",
       "      <th>Gender</th>\n",
       "      <th>Blood Type</th>\n",
       "      <th>Medical Condition</th>\n",
       "      <th>Date of Admission</th>\n",
       "      <th>Doctor</th>\n",
       "      <th>Hospital</th>\n",
       "      <th>Insurance Provider</th>\n",
       "      <th>Billing Amount</th>\n",
       "      <th>Room Number</th>\n",
       "      <th>Admission Type</th>\n",
       "      <th>Discharge Date</th>\n",
       "      <th>Medication</th>\n",
       "      <th>Test Results</th>\n",
       "    </tr>\n",
       "  </thead>\n",
       "  <tbody>\n",
       "    <tr>\n",
       "      <th>count</th>\n",
       "      <td>55500</td>\n",
       "      <td>55500.000000</td>\n",
       "      <td>55500</td>\n",
       "      <td>55500</td>\n",
       "      <td>55500</td>\n",
       "      <td>55500</td>\n",
       "      <td>55500</td>\n",
       "      <td>55500</td>\n",
       "      <td>55500</td>\n",
       "      <td>55500.000000</td>\n",
       "      <td>55500.000000</td>\n",
       "      <td>55500</td>\n",
       "      <td>55500</td>\n",
       "      <td>55500</td>\n",
       "      <td>55500</td>\n",
       "    </tr>\n",
       "    <tr>\n",
       "      <th>unique</th>\n",
       "      <td>40235</td>\n",
       "      <td>NaN</td>\n",
       "      <td>2</td>\n",
       "      <td>8</td>\n",
       "      <td>6</td>\n",
       "      <td>1827</td>\n",
       "      <td>40341</td>\n",
       "      <td>39876</td>\n",
       "      <td>5</td>\n",
       "      <td>NaN</td>\n",
       "      <td>NaN</td>\n",
       "      <td>3</td>\n",
       "      <td>1856</td>\n",
       "      <td>5</td>\n",
       "      <td>3</td>\n",
       "    </tr>\n",
       "    <tr>\n",
       "      <th>top</th>\n",
       "      <td>Michael Williams</td>\n",
       "      <td>NaN</td>\n",
       "      <td>Male</td>\n",
       "      <td>A-</td>\n",
       "      <td>Arthritis</td>\n",
       "      <td>2024-03-16</td>\n",
       "      <td>Michael Smith</td>\n",
       "      <td>LLC Smith</td>\n",
       "      <td>Cigna</td>\n",
       "      <td>NaN</td>\n",
       "      <td>NaN</td>\n",
       "      <td>Elective</td>\n",
       "      <td>2020-03-15</td>\n",
       "      <td>Lipitor</td>\n",
       "      <td>Abnormal</td>\n",
       "    </tr>\n",
       "    <tr>\n",
       "      <th>freq</th>\n",
       "      <td>24</td>\n",
       "      <td>NaN</td>\n",
       "      <td>27774</td>\n",
       "      <td>6969</td>\n",
       "      <td>9308</td>\n",
       "      <td>50</td>\n",
       "      <td>27</td>\n",
       "      <td>44</td>\n",
       "      <td>11249</td>\n",
       "      <td>NaN</td>\n",
       "      <td>NaN</td>\n",
       "      <td>18655</td>\n",
       "      <td>53</td>\n",
       "      <td>11140</td>\n",
       "      <td>18627</td>\n",
       "    </tr>\n",
       "    <tr>\n",
       "      <th>mean</th>\n",
       "      <td>NaN</td>\n",
       "      <td>51.539459</td>\n",
       "      <td>NaN</td>\n",
       "      <td>NaN</td>\n",
       "      <td>NaN</td>\n",
       "      <td>NaN</td>\n",
       "      <td>NaN</td>\n",
       "      <td>NaN</td>\n",
       "      <td>NaN</td>\n",
       "      <td>25539.316097</td>\n",
       "      <td>301.134829</td>\n",
       "      <td>NaN</td>\n",
       "      <td>NaN</td>\n",
       "      <td>NaN</td>\n",
       "      <td>NaN</td>\n",
       "    </tr>\n",
       "    <tr>\n",
       "      <th>std</th>\n",
       "      <td>NaN</td>\n",
       "      <td>19.602454</td>\n",
       "      <td>NaN</td>\n",
       "      <td>NaN</td>\n",
       "      <td>NaN</td>\n",
       "      <td>NaN</td>\n",
       "      <td>NaN</td>\n",
       "      <td>NaN</td>\n",
       "      <td>NaN</td>\n",
       "      <td>14211.454431</td>\n",
       "      <td>115.243069</td>\n",
       "      <td>NaN</td>\n",
       "      <td>NaN</td>\n",
       "      <td>NaN</td>\n",
       "      <td>NaN</td>\n",
       "    </tr>\n",
       "    <tr>\n",
       "      <th>min</th>\n",
       "      <td>NaN</td>\n",
       "      <td>13.000000</td>\n",
       "      <td>NaN</td>\n",
       "      <td>NaN</td>\n",
       "      <td>NaN</td>\n",
       "      <td>NaN</td>\n",
       "      <td>NaN</td>\n",
       "      <td>NaN</td>\n",
       "      <td>NaN</td>\n",
       "      <td>-2008.492140</td>\n",
       "      <td>101.000000</td>\n",
       "      <td>NaN</td>\n",
       "      <td>NaN</td>\n",
       "      <td>NaN</td>\n",
       "      <td>NaN</td>\n",
       "    </tr>\n",
       "    <tr>\n",
       "      <th>25%</th>\n",
       "      <td>NaN</td>\n",
       "      <td>35.000000</td>\n",
       "      <td>NaN</td>\n",
       "      <td>NaN</td>\n",
       "      <td>NaN</td>\n",
       "      <td>NaN</td>\n",
       "      <td>NaN</td>\n",
       "      <td>NaN</td>\n",
       "      <td>NaN</td>\n",
       "      <td>13241.224652</td>\n",
       "      <td>202.000000</td>\n",
       "      <td>NaN</td>\n",
       "      <td>NaN</td>\n",
       "      <td>NaN</td>\n",
       "      <td>NaN</td>\n",
       "    </tr>\n",
       "    <tr>\n",
       "      <th>50%</th>\n",
       "      <td>NaN</td>\n",
       "      <td>52.000000</td>\n",
       "      <td>NaN</td>\n",
       "      <td>NaN</td>\n",
       "      <td>NaN</td>\n",
       "      <td>NaN</td>\n",
       "      <td>NaN</td>\n",
       "      <td>NaN</td>\n",
       "      <td>NaN</td>\n",
       "      <td>25538.069376</td>\n",
       "      <td>302.000000</td>\n",
       "      <td>NaN</td>\n",
       "      <td>NaN</td>\n",
       "      <td>NaN</td>\n",
       "      <td>NaN</td>\n",
       "    </tr>\n",
       "    <tr>\n",
       "      <th>75%</th>\n",
       "      <td>NaN</td>\n",
       "      <td>68.000000</td>\n",
       "      <td>NaN</td>\n",
       "      <td>NaN</td>\n",
       "      <td>NaN</td>\n",
       "      <td>NaN</td>\n",
       "      <td>NaN</td>\n",
       "      <td>NaN</td>\n",
       "      <td>NaN</td>\n",
       "      <td>37820.508436</td>\n",
       "      <td>401.000000</td>\n",
       "      <td>NaN</td>\n",
       "      <td>NaN</td>\n",
       "      <td>NaN</td>\n",
       "      <td>NaN</td>\n",
       "    </tr>\n",
       "    <tr>\n",
       "      <th>max</th>\n",
       "      <td>NaN</td>\n",
       "      <td>89.000000</td>\n",
       "      <td>NaN</td>\n",
       "      <td>NaN</td>\n",
       "      <td>NaN</td>\n",
       "      <td>NaN</td>\n",
       "      <td>NaN</td>\n",
       "      <td>NaN</td>\n",
       "      <td>NaN</td>\n",
       "      <td>52764.276736</td>\n",
       "      <td>500.000000</td>\n",
       "      <td>NaN</td>\n",
       "      <td>NaN</td>\n",
       "      <td>NaN</td>\n",
       "      <td>NaN</td>\n",
       "    </tr>\n",
       "  </tbody>\n",
       "</table>\n",
       "</div>"
      ],
      "text/plain": [
       "Column Name              Name           Age Gender Blood Type  \\\n",
       "count                   55500  55500.000000  55500      55500   \n",
       "unique                  40235           NaN      2          8   \n",
       "top          Michael Williams           NaN   Male         A-   \n",
       "freq                       24           NaN  27774       6969   \n",
       "mean                      NaN     51.539459    NaN        NaN   \n",
       "std                       NaN     19.602454    NaN        NaN   \n",
       "min                       NaN     13.000000    NaN        NaN   \n",
       "25%                       NaN     35.000000    NaN        NaN   \n",
       "50%                       NaN     52.000000    NaN        NaN   \n",
       "75%                       NaN     68.000000    NaN        NaN   \n",
       "max                       NaN     89.000000    NaN        NaN   \n",
       "\n",
       "Column Name Medical Condition Date of Admission         Doctor   Hospital  \\\n",
       "count                   55500             55500          55500      55500   \n",
       "unique                      6              1827          40341      39876   \n",
       "top                 Arthritis        2024-03-16  Michael Smith  LLC Smith   \n",
       "freq                     9308                50             27         44   \n",
       "mean                      NaN               NaN            NaN        NaN   \n",
       "std                       NaN               NaN            NaN        NaN   \n",
       "min                       NaN               NaN            NaN        NaN   \n",
       "25%                       NaN               NaN            NaN        NaN   \n",
       "50%                       NaN               NaN            NaN        NaN   \n",
       "75%                       NaN               NaN            NaN        NaN   \n",
       "max                       NaN               NaN            NaN        NaN   \n",
       "\n",
       "Column Name Insurance Provider  Billing Amount   Room Number Admission Type  \\\n",
       "count                    55500    55500.000000  55500.000000          55500   \n",
       "unique                       5             NaN           NaN              3   \n",
       "top                      Cigna             NaN           NaN       Elective   \n",
       "freq                     11249             NaN           NaN          18655   \n",
       "mean                       NaN    25539.316097    301.134829            NaN   \n",
       "std                        NaN    14211.454431    115.243069            NaN   \n",
       "min                        NaN    -2008.492140    101.000000            NaN   \n",
       "25%                        NaN    13241.224652    202.000000            NaN   \n",
       "50%                        NaN    25538.069376    302.000000            NaN   \n",
       "75%                        NaN    37820.508436    401.000000            NaN   \n",
       "max                        NaN    52764.276736    500.000000            NaN   \n",
       "\n",
       "Column Name Discharge Date Medication Test Results  \n",
       "count                55500      55500        55500  \n",
       "unique                1856          5            3  \n",
       "top             2020-03-15    Lipitor     Abnormal  \n",
       "freq                    53      11140        18627  \n",
       "mean                   NaN        NaN          NaN  \n",
       "std                    NaN        NaN          NaN  \n",
       "min                    NaN        NaN          NaN  \n",
       "25%                    NaN        NaN          NaN  \n",
       "50%                    NaN        NaN          NaN  \n",
       "75%                    NaN        NaN          NaN  \n",
       "max                    NaN        NaN          NaN  "
      ]
     },
     "execution_count": 6,
     "metadata": {},
     "output_type": "execute_result"
    }
   ],
   "source": [
    "display(df_hc.shape)\n",
    "df_hc.describe(include='all')"
   ]
  },
  {
   "cell_type": "markdown",
   "id": "5fa94128",
   "metadata": {},
   "source": [
    "## Duplicated process"
   ]
  },
  {
   "cell_type": "markdown",
   "id": "7dc4915d",
   "metadata": {},
   "source": [
    "### Remove all but 'Age' columns duplicated"
   ]
  },
  {
   "cell_type": "code",
   "execution_count": 75,
   "id": "bb228286",
   "metadata": {},
   "outputs": [],
   "source": [
    "subset_cols = (df_hc.columns.to_list())\n",
    "subset_cols.remove('Age')"
   ]
  },
  {
   "cell_type": "code",
   "execution_count": 76,
   "id": "b1f38a51",
   "metadata": {},
   "outputs": [
    {
     "data": {
      "application/vnd.microsoft.datawrangler.viewer.v0+json": {
       "columns": [
        {
         "name": "index",
         "rawType": "int64",
         "type": "integer"
        },
        {
         "name": "Name",
         "rawType": "object",
         "type": "string"
        },
        {
         "name": "Gender",
         "rawType": "object",
         "type": "string"
        },
        {
         "name": "Blood Type",
         "rawType": "object",
         "type": "string"
        },
        {
         "name": "Medical Condition",
         "rawType": "object",
         "type": "string"
        },
        {
         "name": "Date of Admission",
         "rawType": "object",
         "type": "unknown"
        },
        {
         "name": "Doctor",
         "rawType": "object",
         "type": "string"
        },
        {
         "name": "Hospital",
         "rawType": "object",
         "type": "string"
        },
        {
         "name": "Insurance Provider",
         "rawType": "object",
         "type": "string"
        },
        {
         "name": "Billing Amount",
         "rawType": "float64",
         "type": "float"
        },
        {
         "name": "Room Number",
         "rawType": "int64",
         "type": "integer"
        },
        {
         "name": "Admission Type",
         "rawType": "object",
         "type": "string"
        },
        {
         "name": "Discharge Date",
         "rawType": "object",
         "type": "unknown"
        },
        {
         "name": "Medication",
         "rawType": "object",
         "type": "string"
        },
        {
         "name": "Test Results",
         "rawType": "object",
         "type": "string"
        },
        {
         "name": "Age",
         "rawType": "int64",
         "type": "integer"
        }
       ],
       "ref": "d116a379-6b8c-48fb-bdc8-68a54f04a375",
       "rows": [
        [
         "0",
         "AARON DuncAn",
         "Male",
         "AB-",
         "Obesity",
         "2019-07-24",
         "Ryan Perry",
         "Welch-Yang",
         "UnitedHealthcare",
         "39906.15",
         "279",
         "Urgent",
         "2019-08-04",
         "Paracetamol",
         "Abnormal",
         "22"
        ],
        [
         "1",
         "AARON HicKS",
         "Female",
         "A+",
         "Arthritis",
         "2022-03-02",
         "Michael Butler",
         "Rasmussen Patrick and Newman,",
         "Cigna",
         "10584.19",
         "187",
         "Elective",
         "2022-03-15",
         "Lipitor",
         "Inconclusive",
         "76"
        ],
        [
         "2",
         "AARON bAldWIN Jr.",
         "Male",
         "O-",
         "Hypertension",
         "2020-10-10",
         "Amy Farley",
         "Flores Friedman and White,",
         "Medicare",
         "29740.96",
         "104",
         "Urgent",
         "2020-11-05",
         "Paracetamol",
         "Abnormal",
         "20"
        ],
        [
         "3",
         "AARON hAWkIns",
         "Female",
         "B-",
         "Diabetes",
         "2019-10-17",
         "Kimberly York",
         "Harris, Hernandez and Vazquez",
         "Aetna",
         "21535.55",
         "206",
         "Urgent",
         "2019-10-26",
         "Penicillin",
         "Abnormal",
         "69"
        ],
        [
         "4",
         "AAROn HaRt",
         "Male",
         "B-",
         "Cancer",
         "2021-01-13",
         "Sharon Morrison",
         "Fox Guzman James, and",
         "Aetna",
         "13895.55",
         "260",
         "Emergency",
         "2021-01-20",
         "Paracetamol",
         "Abnormal",
         "18"
        ],
        [
         "5",
         "AAROn wiLsON",
         "Female",
         "O+",
         "Obesity",
         "2020-01-19",
         "Victor Dixon",
         "Mercado-Brown",
         "Blue Cross",
         "18181.53",
         "416",
         "Emergency",
         "2020-02-10",
         "Aspirin",
         "Inconclusive",
         "49"
        ],
        [
         "6",
         "AARoN FOSTer",
         "Male",
         "AB+",
         "Asthma",
         "2021-09-18",
         "Margaret Hernandez",
         "Brown Hunt Lowe, and",
         "UnitedHealthcare",
         "15645.7",
         "352",
         "Urgent",
         "2021-09-27",
         "Lipitor",
         "Normal",
         "65"
        ],
        [
         "7",
         "AARoN HOPkINs",
         "Female",
         "AB+",
         "Asthma",
         "2021-05-06",
         "Heather Palmer",
         "and Barton, Patterson Burton",
         "Cigna",
         "7418.44",
         "458",
         "Emergency",
         "2021-05-10",
         "Paracetamol",
         "Inconclusive",
         "26"
        ],
        [
         "8",
         "AARoN grEEnE",
         "Male",
         "AB+",
         "Diabetes",
         "2022-04-21",
         "Tony Harris",
         "LLC Hall",
         "Blue Cross",
         "35841.9",
         "148",
         "Emergency",
         "2022-04-30",
         "Aspirin",
         "Inconclusive",
         "82"
        ],
        [
         "9",
         "AARon OnEal",
         "Male",
         "A-",
         "Asthma",
         "2019-09-22",
         "Anthony Atkins",
         "Inc Taylor",
         "Medicare",
         "30828.63",
         "478",
         "Emergency",
         "2019-09-26",
         "Lipitor",
         "Abnormal",
         "69"
        ],
        [
         "10",
         "AARon SmIth",
         "Female",
         "B-",
         "Obesity",
         "2024-04-29",
         "James Tucker",
         "Butler Group",
         "Cigna",
         "8340.97",
         "307",
         "Elective",
         "2024-05-29",
         "Aspirin",
         "Abnormal",
         "46"
        ],
        [
         "11",
         "AARon goOdwIn",
         "Male",
         "A-",
         "Obesity",
         "2021-08-01",
         "Christopher Morris",
         "Wood-Riddle",
         "Cigna",
         "6679.78",
         "488",
         "Emergency",
         "2021-08-27",
         "Paracetamol",
         "Inconclusive",
         "59"
        ],
        [
         "12",
         "AARon poPe",
         "Female",
         "B-",
         "Arthritis",
         "2019-06-26",
         "Jennifer Bailey",
         "Ltd Davila",
         "Aetna",
         "39206.98",
         "433",
         "Elective",
         "2019-07-22",
         "Paracetamol",
         "Inconclusive",
         "41"
        ],
        [
         "13",
         "AARon smITh",
         "Male",
         "A-",
         "Cancer",
         "2019-11-21",
         "Gina Jacobs",
         "Weber-Warren",
         "Medicare",
         "21879.77",
         "155",
         "Emergency",
         "2019-12-20",
         "Ibuprofen",
         "Inconclusive",
         "80"
        ],
        [
         "14",
         "AArON BeNtlEy",
         "Male",
         "O-",
         "Asthma",
         "2022-09-22",
         "Elizabeth Mccullough",
         "Landry-Fitzpatrick",
         "Cigna",
         "5411.61",
         "500",
         "Emergency",
         "2022-10-05",
         "Aspirin",
         "Normal",
         "18"
        ],
        [
         "15",
         "AArON GOoDmAN",
         "Female",
         "AB-",
         "Diabetes",
         "2020-11-11",
         "Brandon Jones",
         "Moore-Freeman",
         "Blue Cross",
         "30631.13",
         "177",
         "Emergency",
         "2020-11-29",
         "Ibuprofen",
         "Inconclusive",
         "26"
        ],
        [
         "16",
         "AArON ROdRIgueZ",
         "Female",
         "O-",
         "Hypertension",
         "2020-09-03",
         "Kaylee Hunter",
         "Baxter-Crawford",
         "Aetna",
         "21605.06",
         "163",
         "Elective",
         "2020-09-04",
         "Aspirin",
         "Inconclusive",
         "63"
        ],
        [
         "17",
         "AArON RiChaRDsON",
         "Male",
         "AB+",
         "Cancer",
         "2023-10-01",
         "Jeanne Davis",
         "Rojas-Thompson",
         "UnitedHealthcare",
         "23518.84",
         "357",
         "Elective",
         "2023-10-22",
         "Ibuprofen",
         "Inconclusive",
         "20"
        ],
        [
         "18",
         "AArON rOmEro",
         "Male",
         "AB-",
         "Obesity",
         "2019-08-25",
         "Sabrina Kennedy",
         "Watson-Young",
         "Medicare",
         "14467.41",
         "359",
         "Urgent",
         "2019-09-10",
         "Ibuprofen",
         "Inconclusive",
         "53"
        ],
        [
         "19",
         "AArON sTrICkLanD",
         "Female",
         "B-",
         "Cancer",
         "2022-02-01",
         "Oscar Martin",
         "Keith-Rios",
         "Medicare",
         "33631.88",
         "324",
         "Emergency",
         "2022-02-13",
         "Ibuprofen",
         "Inconclusive",
         "35"
        ],
        [
         "20",
         "AArOn AnderSoN",
         "Female",
         "A+",
         "Asthma",
         "2020-12-18",
         "Kenneth Jennings",
         "Tanner-Cox",
         "Cigna",
         "39804.66",
         "196",
         "Urgent",
         "2021-01-15",
         "Aspirin",
         "Inconclusive",
         "50"
        ],
        [
         "21",
         "AArOn CoOK",
         "Female",
         "B+",
         "Diabetes",
         "2019-07-21",
         "James Alvarez",
         "Ltd Johnson",
         "UnitedHealthcare",
         "43824.21",
         "298",
         "Elective",
         "2019-08-20",
         "Ibuprofen",
         "Inconclusive",
         "32"
        ],
        [
         "22",
         "AArOn DaVIs",
         "Female",
         "AB+",
         "Cancer",
         "2020-10-21",
         "Christopher Martin",
         "and Atkins Mcintosh, Sanders",
         "Blue Cross",
         "3735.71",
         "281",
         "Elective",
         "2020-10-29",
         "Paracetamol",
         "Inconclusive",
         "72"
        ],
        [
         "23",
         "AArOn STAnLey",
         "Female",
         "O-",
         "Arthritis",
         "2020-06-03",
         "Cindy Collins",
         "Brooks, Allen Rose and",
         "Aetna",
         "48319.78",
         "359",
         "Urgent",
         "2020-06-11",
         "Paracetamol",
         "Normal",
         "34"
        ],
        [
         "24",
         "AArOn huFf",
         "Male",
         "O+",
         "Cancer",
         "2019-07-09",
         "Lance Good",
         "Hardy-Jones",
         "UnitedHealthcare",
         "10764.77",
         "305",
         "Urgent",
         "2019-07-22",
         "Aspirin",
         "Abnormal",
         "50"
        ],
        [
         "25",
         "AArOn meZa",
         "Female",
         "O+",
         "Hypertension",
         "2020-03-11",
         "Kayla Ritter",
         "Campbell and Johnson, Erickson",
         "Aetna",
         "29139.57",
         "358",
         "Elective",
         "2020-04-02",
         "Aspirin",
         "Inconclusive",
         "67"
        ],
        [
         "26",
         "AAroN MArtiN",
         "Male",
         "O+",
         "Obesity",
         "2021-06-30",
         "Wendy Smith",
         "PLC Evans",
         "Blue Cross",
         "11123.28",
         "219",
         "Emergency",
         "2021-07-27",
         "Aspirin",
         "Abnormal",
         "55"
        ],
        [
         "27",
         "AAroN SwEENEY",
         "Male",
         "A+",
         "Diabetes",
         "2024-03-05",
         "Leslie Gomez",
         "and Lee Walter, Anderson",
         "Blue Cross",
         "29538.89",
         "440",
         "Emergency",
         "2024-03-27",
         "Ibuprofen",
         "Normal",
         "51"
        ],
        [
         "28",
         "AAroN bAker",
         "Male",
         "B+",
         "Cancer",
         "2019-06-18",
         "Tracy Torres",
         "Wise and Todd, Parker",
         "Medicare",
         "10135.89",
         "234",
         "Elective",
         "2019-07-10",
         "Aspirin",
         "Inconclusive",
         "73"
        ],
        [
         "29",
         "AAron ArCHER",
         "Female",
         "B-",
         "Cancer",
         "2021-01-10",
         "Cynthia Villanueva",
         "Montes Case and Mendez,",
         "Medicare",
         "10602.08",
         "108",
         "Urgent",
         "2021-01-17",
         "Paracetamol",
         "Inconclusive",
         "48"
        ],
        [
         "30",
         "AAron DicKSoN",
         "Male",
         "AB+",
         "Diabetes",
         "2021-05-14",
         "Tammy Simpson",
         "Anderson-Harrell",
         "UnitedHealthcare",
         "7018.93",
         "216",
         "Urgent",
         "2021-05-20",
         "Penicillin",
         "Abnormal",
         "46"
        ],
        [
         "31",
         "AAron FisHER",
         "Female",
         "A-",
         "Cancer",
         "2020-12-16",
         "Leroy Evans",
         "Clark-Bray",
         "Medicare",
         "25212.66",
         "121",
         "Emergency",
         "2020-12-27",
         "Paracetamol",
         "Inconclusive",
         "72"
        ],
        [
         "32",
         "AAron LoPez",
         "Male",
         "AB+",
         "Arthritis",
         "2022-04-08",
         "Jeffrey Wilson",
         "James and Sons",
         "Blue Cross",
         "27027.46",
         "436",
         "Urgent",
         "2022-04-27",
         "Lipitor",
         "Inconclusive",
         "82"
        ],
        [
         "33",
         "AAron RoWE",
         "Female",
         "B-",
         "Cancer",
         "2020-07-12",
         "Nicole Price",
         "Walker Group",
         "Aetna",
         "28559.94",
         "173",
         "Elective",
         "2020-08-03",
         "Aspirin",
         "Normal",
         "61"
        ],
        [
         "34",
         "AAron SMItH",
         "Male",
         "B-",
         "Asthma",
         "2022-10-01",
         "Greg Dillon",
         "Hall Reed and Kaiser,",
         "Medicare",
         "48796.76",
         "435",
         "Emergency",
         "2022-10-03",
         "Aspirin",
         "Normal",
         "25"
        ],
        [
         "35",
         "AAron WIlkinS",
         "Female",
         "AB-",
         "Diabetes",
         "2020-12-23",
         "Johnathan White",
         "and Massey, Shaffer Simmons",
         "Aetna",
         "12717.38",
         "298",
         "Elective",
         "2021-01-20",
         "Aspirin",
         "Inconclusive",
         "40"
        ],
        [
         "36",
         "AAron fuller",
         "Female",
         "B-",
         "Obesity",
         "2019-10-04",
         "Brenda King",
         "Paul-Anderson",
         "Blue Cross",
         "48456.88",
         "333",
         "Elective",
         "2019-10-28",
         "Paracetamol",
         "Normal",
         "22"
        ],
        [
         "37",
         "AAron reEd",
         "Male",
         "B-",
         "Asthma",
         "2023-10-06",
         "Manuel Lucero",
         "Glover-Mcgee",
         "Cigna",
         "6125.88",
         "429",
         "Emergency",
         "2023-11-03",
         "Lipitor",
         "Normal",
         "44"
        ],
        [
         "38",
         "ABIGAIL pARKeR",
         "Male",
         "A+",
         "Asthma",
         "2021-06-08",
         "Ashley Fields",
         "Smith and Clark Brown,",
         "Blue Cross",
         "12809.09",
         "443",
         "Elective",
         "2021-06-19",
         "Lipitor",
         "Abnormal",
         "23"
        ],
        [
         "39",
         "ABIGAIl AusTIn",
         "Male",
         "AB+",
         "Diabetes",
         "2023-12-02",
         "James Hill",
         "LLC Pena",
         "UnitedHealthcare",
         "11687.78",
         "402",
         "Elective",
         "2023-12-29",
         "Lipitor",
         "Abnormal",
         "41"
        ],
        [
         "40",
         "ABIGAIl bEltrAn",
         "Male",
         "AB+",
         "Arthritis",
         "2019-10-27",
         "Robert Taylor",
         "Bowman-Owens",
         "Blue Cross",
         "45106.02",
         "402",
         "Emergency",
         "2019-10-30",
         "Penicillin",
         "Normal",
         "69"
        ],
        [
         "41",
         "ABIGAiL wateRS",
         "Female",
         "O+",
         "Asthma",
         "2023-11-13",
         "Sandra Boyer",
         "Rogers Martin Prince, and",
         "UnitedHealthcare",
         "3121.2",
         "421",
         "Elective",
         "2023-11-22",
         "Aspirin",
         "Inconclusive",
         "34"
        ],
        [
         "42",
         "ABIGaIl caldWELL",
         "Female",
         "AB+",
         "Hypertension",
         "2022-09-18",
         "Ralph Peterson",
         "Mcclure-Bowman",
         "Medicare",
         "47550.38",
         "226",
         "Elective",
         "2022-10-01",
         "Aspirin",
         "Normal",
         "60"
        ],
        [
         "43",
         "ABIGaiL LONG",
         "Male",
         "O+",
         "Hypertension",
         "2023-06-24",
         "Emily Hall",
         "Richardson LLC",
         "Blue Cross",
         "33087.8",
         "379",
         "Urgent",
         "2023-07-01",
         "Paracetamol",
         "Normal",
         "43"
        ],
        [
         "44",
         "ABIgAIL tucKeR",
         "Male",
         "B+",
         "Cancer",
         "2020-08-10",
         "Christopher Avery",
         "Perry and Sons",
         "Blue Cross",
         "1773.46",
         "480",
         "Elective",
         "2020-08-26",
         "Paracetamol",
         "Normal",
         "67"
        ],
        [
         "45",
         "ABIgAil martIN",
         "Male",
         "O+",
         "Cancer",
         "2022-03-31",
         "Kristine Stevens",
         "and Flynn Gardner Mcclain,",
         "Medicare",
         "8038.49",
         "430",
         "Elective",
         "2022-04-05",
         "Lipitor",
         "Normal",
         "22"
        ],
        [
         "46",
         "ABIgaIL YOung",
         "Female",
         "O+",
         "Hypertension",
         "2022-12-15",
         "Edward Kramer",
         "Moore-Mcdaniel",
         "UnitedHealthcare",
         "1983.57",
         "192",
         "Elective",
         "2023-01-13",
         "Ibuprofen",
         "Normal",
         "41"
        ],
        [
         "47",
         "ABIgaIl PETERS",
         "Female",
         "AB-",
         "Diabetes",
         "2023-02-19",
         "Julie Cook",
         "Sanchez-Buck",
         "Blue Cross",
         "41514.35",
         "435",
         "Emergency",
         "2023-02-20",
         "Aspirin",
         "Inconclusive",
         "39"
        ],
        [
         "48",
         "ABIgail aCEveDO",
         "Female",
         "O+",
         "Hypertension",
         "2022-06-16",
         "Nicholas Moore",
         "Walls Phillips, Solomon and",
         "Medicare",
         "13236.19",
         "257",
         "Emergency",
         "2022-07-11",
         "Ibuprofen",
         "Abnormal",
         "55"
        ],
        [
         "49",
         "ABiGAiL VaLdez",
         "Female",
         "B+",
         "Obesity",
         "2020-08-12",
         "Colton Russell",
         "and Anderson Sons",
         "Aetna",
         "4082.54",
         "203",
         "Emergency",
         "2020-08-25",
         "Paracetamol",
         "Inconclusive",
         "30"
        ]
       ],
       "shape": {
        "columns": 15,
        "rows": 50000
       }
      },
      "text/html": [
       "<div>\n",
       "<style scoped>\n",
       "    .dataframe tbody tr th:only-of-type {\n",
       "        vertical-align: middle;\n",
       "    }\n",
       "\n",
       "    .dataframe tbody tr th {\n",
       "        vertical-align: top;\n",
       "    }\n",
       "\n",
       "    .dataframe thead th {\n",
       "        text-align: right;\n",
       "    }\n",
       "</style>\n",
       "<table border=\"1\" class=\"dataframe\">\n",
       "  <thead>\n",
       "    <tr style=\"text-align: right;\">\n",
       "      <th></th>\n",
       "      <th>Name</th>\n",
       "      <th>Gender</th>\n",
       "      <th>Blood Type</th>\n",
       "      <th>Medical Condition</th>\n",
       "      <th>Date of Admission</th>\n",
       "      <th>Doctor</th>\n",
       "      <th>Hospital</th>\n",
       "      <th>Insurance Provider</th>\n",
       "      <th>Billing Amount</th>\n",
       "      <th>Room Number</th>\n",
       "      <th>Admission Type</th>\n",
       "      <th>Discharge Date</th>\n",
       "      <th>Medication</th>\n",
       "      <th>Test Results</th>\n",
       "      <th>Age</th>\n",
       "    </tr>\n",
       "  </thead>\n",
       "  <tbody>\n",
       "    <tr>\n",
       "      <th>0</th>\n",
       "      <td>AARON DuncAn</td>\n",
       "      <td>Male</td>\n",
       "      <td>AB-</td>\n",
       "      <td>Obesity</td>\n",
       "      <td>2019-07-24</td>\n",
       "      <td>Ryan Perry</td>\n",
       "      <td>Welch-Yang</td>\n",
       "      <td>UnitedHealthcare</td>\n",
       "      <td>39906.15</td>\n",
       "      <td>279</td>\n",
       "      <td>Urgent</td>\n",
       "      <td>2019-08-04</td>\n",
       "      <td>Paracetamol</td>\n",
       "      <td>Abnormal</td>\n",
       "      <td>22</td>\n",
       "    </tr>\n",
       "    <tr>\n",
       "      <th>1</th>\n",
       "      <td>AARON HicKS</td>\n",
       "      <td>Female</td>\n",
       "      <td>A+</td>\n",
       "      <td>Arthritis</td>\n",
       "      <td>2022-03-02</td>\n",
       "      <td>Michael Butler</td>\n",
       "      <td>Rasmussen Patrick and Newman,</td>\n",
       "      <td>Cigna</td>\n",
       "      <td>10584.19</td>\n",
       "      <td>187</td>\n",
       "      <td>Elective</td>\n",
       "      <td>2022-03-15</td>\n",
       "      <td>Lipitor</td>\n",
       "      <td>Inconclusive</td>\n",
       "      <td>76</td>\n",
       "    </tr>\n",
       "    <tr>\n",
       "      <th>2</th>\n",
       "      <td>AARON bAldWIN Jr.</td>\n",
       "      <td>Male</td>\n",
       "      <td>O-</td>\n",
       "      <td>Hypertension</td>\n",
       "      <td>2020-10-10</td>\n",
       "      <td>Amy Farley</td>\n",
       "      <td>Flores Friedman and White,</td>\n",
       "      <td>Medicare</td>\n",
       "      <td>29740.96</td>\n",
       "      <td>104</td>\n",
       "      <td>Urgent</td>\n",
       "      <td>2020-11-05</td>\n",
       "      <td>Paracetamol</td>\n",
       "      <td>Abnormal</td>\n",
       "      <td>20</td>\n",
       "    </tr>\n",
       "    <tr>\n",
       "      <th>3</th>\n",
       "      <td>AARON hAWkIns</td>\n",
       "      <td>Female</td>\n",
       "      <td>B-</td>\n",
       "      <td>Diabetes</td>\n",
       "      <td>2019-10-17</td>\n",
       "      <td>Kimberly York</td>\n",
       "      <td>Harris, Hernandez and Vazquez</td>\n",
       "      <td>Aetna</td>\n",
       "      <td>21535.55</td>\n",
       "      <td>206</td>\n",
       "      <td>Urgent</td>\n",
       "      <td>2019-10-26</td>\n",
       "      <td>Penicillin</td>\n",
       "      <td>Abnormal</td>\n",
       "      <td>69</td>\n",
       "    </tr>\n",
       "    <tr>\n",
       "      <th>4</th>\n",
       "      <td>AAROn HaRt</td>\n",
       "      <td>Male</td>\n",
       "      <td>B-</td>\n",
       "      <td>Cancer</td>\n",
       "      <td>2021-01-13</td>\n",
       "      <td>Sharon Morrison</td>\n",
       "      <td>Fox Guzman James, and</td>\n",
       "      <td>Aetna</td>\n",
       "      <td>13895.55</td>\n",
       "      <td>260</td>\n",
       "      <td>Emergency</td>\n",
       "      <td>2021-01-20</td>\n",
       "      <td>Paracetamol</td>\n",
       "      <td>Abnormal</td>\n",
       "      <td>18</td>\n",
       "    </tr>\n",
       "    <tr>\n",
       "      <th>...</th>\n",
       "      <td>...</td>\n",
       "      <td>...</td>\n",
       "      <td>...</td>\n",
       "      <td>...</td>\n",
       "      <td>...</td>\n",
       "      <td>...</td>\n",
       "      <td>...</td>\n",
       "      <td>...</td>\n",
       "      <td>...</td>\n",
       "      <td>...</td>\n",
       "      <td>...</td>\n",
       "      <td>...</td>\n",
       "      <td>...</td>\n",
       "      <td>...</td>\n",
       "      <td>...</td>\n",
       "    </tr>\n",
       "    <tr>\n",
       "      <th>49995</th>\n",
       "      <td>zachaRy huLL</td>\n",
       "      <td>Female</td>\n",
       "      <td>B-</td>\n",
       "      <td>Asthma</td>\n",
       "      <td>2022-12-08</td>\n",
       "      <td>Sarah Martinez</td>\n",
       "      <td>Miller Santana and Kennedy,</td>\n",
       "      <td>Medicare</td>\n",
       "      <td>41876.90</td>\n",
       "      <td>128</td>\n",
       "      <td>Elective</td>\n",
       "      <td>2022-12-15</td>\n",
       "      <td>Lipitor</td>\n",
       "      <td>Normal</td>\n",
       "      <td>53</td>\n",
       "    </tr>\n",
       "    <tr>\n",
       "      <th>49996</th>\n",
       "      <td>zachaRy oDOM</td>\n",
       "      <td>Female</td>\n",
       "      <td>O+</td>\n",
       "      <td>Diabetes</td>\n",
       "      <td>2021-07-08</td>\n",
       "      <td>Sherry Durham</td>\n",
       "      <td>Group Turner</td>\n",
       "      <td>Blue Cross</td>\n",
       "      <td>48301.35</td>\n",
       "      <td>326</td>\n",
       "      <td>Urgent</td>\n",
       "      <td>2021-07-10</td>\n",
       "      <td>Paracetamol</td>\n",
       "      <td>Abnormal</td>\n",
       "      <td>52</td>\n",
       "    </tr>\n",
       "    <tr>\n",
       "      <th>49997</th>\n",
       "      <td>zachaRy raMirEZ</td>\n",
       "      <td>Male</td>\n",
       "      <td>AB+</td>\n",
       "      <td>Asthma</td>\n",
       "      <td>2019-06-30</td>\n",
       "      <td>Heather Chen</td>\n",
       "      <td>and Waters, Williams Daugherty</td>\n",
       "      <td>Aetna</td>\n",
       "      <td>29508.12</td>\n",
       "      <td>205</td>\n",
       "      <td>Emergency</td>\n",
       "      <td>2019-07-20</td>\n",
       "      <td>Aspirin</td>\n",
       "      <td>Inconclusive</td>\n",
       "      <td>58</td>\n",
       "    </tr>\n",
       "    <tr>\n",
       "      <th>49998</th>\n",
       "      <td>zacharY BauTista</td>\n",
       "      <td>Female</td>\n",
       "      <td>AB+</td>\n",
       "      <td>Cancer</td>\n",
       "      <td>2020-08-21</td>\n",
       "      <td>Scott Bell</td>\n",
       "      <td>Rodgers Inc</td>\n",
       "      <td>Medicare</td>\n",
       "      <td>9988.20</td>\n",
       "      <td>336</td>\n",
       "      <td>Urgent</td>\n",
       "      <td>2020-08-25</td>\n",
       "      <td>Aspirin</td>\n",
       "      <td>Inconclusive</td>\n",
       "      <td>44</td>\n",
       "    </tr>\n",
       "    <tr>\n",
       "      <th>49999</th>\n",
       "      <td>zachary WALl</td>\n",
       "      <td>Female</td>\n",
       "      <td>O+</td>\n",
       "      <td>Arthritis</td>\n",
       "      <td>2021-04-14</td>\n",
       "      <td>Jennifer Obrien</td>\n",
       "      <td>Cooper-Collins</td>\n",
       "      <td>Medicare</td>\n",
       "      <td>43133.23</td>\n",
       "      <td>270</td>\n",
       "      <td>Urgent</td>\n",
       "      <td>2021-05-06</td>\n",
       "      <td>Penicillin</td>\n",
       "      <td>Normal</td>\n",
       "      <td>73</td>\n",
       "    </tr>\n",
       "  </tbody>\n",
       "</table>\n",
       "<p>50000 rows × 15 columns</p>\n",
       "</div>"
      ],
      "text/plain": [
       "                    Name  Gender Blood Type Medical Condition  \\\n",
       "0           AARON DuncAn    Male        AB-           Obesity   \n",
       "1            AARON HicKS  Female         A+         Arthritis   \n",
       "2      AARON bAldWIN Jr.    Male         O-      Hypertension   \n",
       "3          AARON hAWkIns  Female         B-          Diabetes   \n",
       "4             AAROn HaRt    Male         B-            Cancer   \n",
       "...                  ...     ...        ...               ...   \n",
       "49995       zachaRy huLL  Female         B-            Asthma   \n",
       "49996       zachaRy oDOM  Female         O+          Diabetes   \n",
       "49997    zachaRy raMirEZ    Male        AB+            Asthma   \n",
       "49998   zacharY BauTista  Female        AB+            Cancer   \n",
       "49999       zachary WALl  Female         O+         Arthritis   \n",
       "\n",
       "      Date of Admission           Doctor                        Hospital  \\\n",
       "0            2019-07-24       Ryan Perry                      Welch-Yang   \n",
       "1            2022-03-02   Michael Butler   Rasmussen Patrick and Newman,   \n",
       "2            2020-10-10       Amy Farley      Flores Friedman and White,   \n",
       "3            2019-10-17    Kimberly York   Harris, Hernandez and Vazquez   \n",
       "4            2021-01-13  Sharon Morrison           Fox Guzman James, and   \n",
       "...                 ...              ...                             ...   \n",
       "49995        2022-12-08   Sarah Martinez     Miller Santana and Kennedy,   \n",
       "49996        2021-07-08    Sherry Durham                    Group Turner   \n",
       "49997        2019-06-30     Heather Chen  and Waters, Williams Daugherty   \n",
       "49998        2020-08-21       Scott Bell                     Rodgers Inc   \n",
       "49999        2021-04-14  Jennifer Obrien                  Cooper-Collins   \n",
       "\n",
       "      Insurance Provider  Billing Amount  Room Number Admission Type  \\\n",
       "0       UnitedHealthcare        39906.15          279         Urgent   \n",
       "1                  Cigna        10584.19          187       Elective   \n",
       "2               Medicare        29740.96          104         Urgent   \n",
       "3                  Aetna        21535.55          206         Urgent   \n",
       "4                  Aetna        13895.55          260      Emergency   \n",
       "...                  ...             ...          ...            ...   \n",
       "49995           Medicare        41876.90          128       Elective   \n",
       "49996         Blue Cross        48301.35          326         Urgent   \n",
       "49997              Aetna        29508.12          205      Emergency   \n",
       "49998           Medicare         9988.20          336         Urgent   \n",
       "49999           Medicare        43133.23          270         Urgent   \n",
       "\n",
       "      Discharge Date   Medication  Test Results  Age  \n",
       "0         2019-08-04  Paracetamol      Abnormal   22  \n",
       "1         2022-03-15      Lipitor  Inconclusive   76  \n",
       "2         2020-11-05  Paracetamol      Abnormal   20  \n",
       "3         2019-10-26   Penicillin      Abnormal   69  \n",
       "4         2021-01-20  Paracetamol      Abnormal   18  \n",
       "...              ...          ...           ...  ...  \n",
       "49995     2022-12-15      Lipitor        Normal   53  \n",
       "49996     2021-07-10  Paracetamol      Abnormal   52  \n",
       "49997     2019-07-20      Aspirin  Inconclusive   58  \n",
       "49998     2020-08-25      Aspirin  Inconclusive   44  \n",
       "49999     2021-05-06   Penicillin        Normal   73  \n",
       "\n",
       "[50000 rows x 15 columns]"
      ]
     },
     "execution_count": 76,
     "metadata": {},
     "output_type": "execute_result"
    }
   ],
   "source": [
    "df_hc = df_hc.groupby(subset_cols)['Age'].mean().reset_index()\n",
    "df_hc['Age'] = df_hc['Age'].astype(int)\n",
    "df_hc"
   ]
  },
  {
   "cell_type": "code",
   "execution_count": null,
   "id": "3cfb9adb",
   "metadata": {},
   "outputs": [
    {
     "data": {
      "application/vnd.microsoft.datawrangler.viewer.v0+json": {
       "columns": [
        {
         "name": "index",
         "rawType": "int64",
         "type": "integer"
        },
        {
         "name": "Name",
         "rawType": "object",
         "type": "string"
        },
        {
         "name": "Gender",
         "rawType": "object",
         "type": "string"
        },
        {
         "name": "Blood Type",
         "rawType": "object",
         "type": "string"
        },
        {
         "name": "Medical Condition",
         "rawType": "object",
         "type": "string"
        },
        {
         "name": "Date of Admission",
         "rawType": "object",
         "type": "string"
        },
        {
         "name": "Doctor",
         "rawType": "object",
         "type": "string"
        },
        {
         "name": "Hospital",
         "rawType": "object",
         "type": "string"
        },
        {
         "name": "Insurance Provider",
         "rawType": "object",
         "type": "string"
        },
        {
         "name": "Billing Amount",
         "rawType": "float64",
         "type": "float"
        },
        {
         "name": "Room Number",
         "rawType": "int64",
         "type": "integer"
        },
        {
         "name": "Admission Type",
         "rawType": "object",
         "type": "string"
        },
        {
         "name": "Discharge Date",
         "rawType": "object",
         "type": "string"
        },
        {
         "name": "Medication",
         "rawType": "object",
         "type": "string"
        },
        {
         "name": "Test Results",
         "rawType": "object",
         "type": "string"
        },
        {
         "name": "Age",
         "rawType": "int64",
         "type": "integer"
        }
       ],
       "ref": "fa8014bd-a485-47a3-b697-0ec45e16e7d6",
       "rows": [],
       "shape": {
        "columns": 15,
        "rows": 0
       }
      },
      "text/html": [
       "<div>\n",
       "<style scoped>\n",
       "    .dataframe tbody tr th:only-of-type {\n",
       "        vertical-align: middle;\n",
       "    }\n",
       "\n",
       "    .dataframe tbody tr th {\n",
       "        vertical-align: top;\n",
       "    }\n",
       "\n",
       "    .dataframe thead th {\n",
       "        text-align: right;\n",
       "    }\n",
       "</style>\n",
       "<table border=\"1\" class=\"dataframe\">\n",
       "  <thead>\n",
       "    <tr style=\"text-align: right;\">\n",
       "      <th></th>\n",
       "      <th>Name</th>\n",
       "      <th>Gender</th>\n",
       "      <th>Blood Type</th>\n",
       "      <th>Medical Condition</th>\n",
       "      <th>Date of Admission</th>\n",
       "      <th>Doctor</th>\n",
       "      <th>Hospital</th>\n",
       "      <th>Insurance Provider</th>\n",
       "      <th>Billing Amount</th>\n",
       "      <th>Room Number</th>\n",
       "      <th>Admission Type</th>\n",
       "      <th>Discharge Date</th>\n",
       "      <th>Medication</th>\n",
       "      <th>Test Results</th>\n",
       "      <th>Age</th>\n",
       "    </tr>\n",
       "  </thead>\n",
       "  <tbody>\n",
       "  </tbody>\n",
       "</table>\n",
       "</div>"
      ],
      "text/plain": [
       "Empty DataFrame\n",
       "Columns: [Name, Gender, Blood Type, Medical Condition, Date of Admission, Doctor, Hospital, Insurance Provider, Billing Amount, Room Number, Admission Type, Discharge Date, Medication, Test Results, Age]\n",
       "Index: []"
      ]
     },
     "metadata": {},
     "output_type": "display_data"
    }
   ],
   "source": [
    "df_hc[df_hc.duplicated(subset=['Name', 'Date of Admission'], keep= False)].sort_values('Name')"
   ]
  },
  {
   "cell_type": "code",
   "execution_count": 57,
   "id": "ba32f53d",
   "metadata": {},
   "outputs": [
    {
     "data": {
      "text/plain": [
       "RangeIndex(start=0, stop=55500, step=1)"
      ]
     },
     "execution_count": 57,
     "metadata": {},
     "output_type": "execute_result"
    }
   ],
   "source": [
    "df_hc.index"
   ]
  }
 ],
 "metadata": {
  "kernelspec": {
   "display_name": ".venv",
   "language": "python",
   "name": "python3"
  },
  "language_info": {
   "codemirror_mode": {
    "name": "ipython",
    "version": 3
   },
   "file_extension": ".py",
   "mimetype": "text/x-python",
   "name": "python",
   "nbconvert_exporter": "python",
   "pygments_lexer": "ipython3",
   "version": "3.12.1"
  }
 },
 "nbformat": 4,
 "nbformat_minor": 5
}
